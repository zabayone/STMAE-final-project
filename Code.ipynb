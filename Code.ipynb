{
 "cells": [
  {
   "cell_type": "markdown",
   "id": "9891d510",
   "metadata": {},
   "source": [
    "STMAE Project number 4"
   ]
  },
  {
   "cell_type": "code",
   "execution_count": 1,
   "id": "88510f7b",
   "metadata": {},
   "outputs": [],
   "source": [
    "# We will start by importing the required libraries\n",
    "import numpy as np\n",
    "import os\n",
    "import matplotlib.pyplot as plt\n",
    "from pathlib import Path\n",
    "import librosa\n",
    "import sklearn\n",
    "import tensorflow as tf\n",
    "import pandas as pd\n",
    "from sklearn.metrics import classification_report, confusion_matrix, ConfusionMatrixDisplay\n",
    "from sklearn.model_selection import train_test_split\n",
    "from sklearn.preprocessing import StandardScaler, LabelEncoder\n",
    "plt.style.use(\"seaborn-v0_8\")\n",
    "tf.config.threading.set_intra_op_parallelism_threads(8)  \n",
    "tf.config.threading.set_inter_op_parallelism_threads(8)  "
   ]
  },
  {
   "cell_type": "code",
   "execution_count": 4,
   "id": "4c9e1859",
   "metadata": {},
   "outputs": [
    {
     "name": "stdout",
     "output_type": "stream",
     "text": [
      "Number of files: 99\n"
     ]
    }
   ],
   "source": [
    "# We will then import the dataset \n",
    "directory = 'scenes_stereo'\n",
    "file_list = [f for f in os.listdir(directory) if f.endswith('.wav')]\n",
    "print(f\"Number of files: {len(file_list)}\")\n",
    "def extract_label(filename):\n",
    "    # Extract the label from the filename\n",
    "    label = filename.split('.')[0]\n",
    "    print(label)\n",
    "    return label\n"
   ]
  }
 ],
 "metadata": {
  "kernelspec": {
   "display_name": "tf310",
   "language": "python",
   "name": "python3"
  },
  "language_info": {
   "codemirror_mode": {
    "name": "ipython",
    "version": 3
   },
   "file_extension": ".py",
   "mimetype": "text/x-python",
   "name": "python",
   "nbconvert_exporter": "python",
   "pygments_lexer": "ipython3",
   "version": "3.10.16"
  }
 },
 "nbformat": 4,
 "nbformat_minor": 5
}
